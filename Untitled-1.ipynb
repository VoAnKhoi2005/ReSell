{
 "cells": [
  {
   "cell_type": "code",
   "execution_count": 3,
   "id": "7eec6198",
   "metadata": {},
   "outputs": [
    {
     "data": {
      "text/plain": [
       "<firebase_admin.App at 0x20a808e5e90>"
      ]
     },
     "execution_count": 3,
     "metadata": {},
     "output_type": "execute_result"
    }
   ],
   "source": [
    "import firebase_admin\n",
    "from firebase_admin import auth, credentials\n",
    "\n",
    "cred = credentials.Certificate(r\"D:\\Github\\ReSell\\backend\\server\\resell-3afcc-firebase-adminsdk-fbsvc-5d0b6bc88b.json\")\n",
    "firebase_admin.initialize_app(cred)"
   ]
  },
  {
   "cell_type": "code",
   "execution_count": 8,
   "id": "355de340",
   "metadata": {},
   "outputs": [],
   "source": [
    "import os\n",
    "os.environ['GOOGLE_APPLICATION_CREDENTIALS'] = r\"D:\\Github\\ReSell\\backend\\server\\resell-3afcc-firebase-adminsdk-fbsvc-5d0b6bc88b.json\""
   ]
  },
  {
   "cell_type": "code",
   "execution_count": 11,
   "id": "9919d133",
   "metadata": {},
   "outputs": [],
   "source": [
    "service_acc_path = r\"D:\\Github\\ReSell\\backend\\server\\resell-3afcc-firebase-adminsdk-fbsvc-5d0b6bc88b.json\""
   ]
  },
  {
   "cell_type": "code",
   "execution_count": 14,
   "id": "305c4eb8",
   "metadata": {},
   "outputs": [
    {
     "name": "stdout",
     "output_type": "stream",
     "text": [
      "200 {\n",
      "  \"name\": \"projects/911397186038/apps/1:911397186038:android:1263607754b80e1f50ffd7/recaptchaEnterpriseConfig\",\n",
      "  \"tokenTtl\": \"3600s\",\n",
      "  \"siteKey\": \"6Lc4rGsrAAAAAKp7lSRXjLLBgr4VQ-Hk6kfaMPcM\"\n",
      "}\n",
      "\n"
     ]
    }
   ],
   "source": [
    "from google.oauth2 import service_account\n",
    "from google.auth.transport.requests import AuthorizedSession\n",
    "\n",
    "SCOPES = [\"https://www.googleapis.com/auth/cloud-platform\"]\n",
    "credentials = service_account.Credentials.from_service_account_file(service_acc_path, scopes=SCOPES)\n",
    "authed_session = AuthorizedSession(credentials)\n",
    "\n",
    "# Replace with your real project_number and android app_id (from Firebase Console)\n",
    "project_number = \"911397186038\"\n",
    "app_id = \"1:911397186038:android:1263607754b80e1f50ffd7\"\n",
    "name = f\"projects/{project_number}/apps/{app_id}/recaptchaEnterpriseConfig\"\n",
    "\n",
    "url = f\"https://firebaseappcheck.googleapis.com/v1beta/{name}?updateMask=siteKey\"\n",
    "\n",
    "payload = {\n",
    "    \"siteKey\": \"6Lc4rGsrAAAAAKp7lSRXjLLBgr4VQ-Hk6kfaMPcM\"\n",
    "}\n",
    "\n",
    "resp = authed_session.patch(url, json=payload)\n",
    "print(resp.status_code, resp.text)\n"
   ]
  }
 ],
 "metadata": {
  "kernelspec": {
   "display_name": "Python 3",
   "language": "python",
   "name": "python3"
  },
  "language_info": {
   "codemirror_mode": {
    "name": "ipython",
    "version": 3
   },
   "file_extension": ".py",
   "mimetype": "text/x-python",
   "name": "python",
   "nbconvert_exporter": "python",
   "pygments_lexer": "ipython3",
   "version": "3.11.7"
  }
 },
 "nbformat": 4,
 "nbformat_minor": 5
}
